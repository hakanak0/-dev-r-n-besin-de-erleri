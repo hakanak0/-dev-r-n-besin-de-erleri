{
 "cells": [
  {
   "cell_type": "code",
   "execution_count": 6,
   "id": "b1e7c996-4c55-421c-bcb7-9e33e6c83d12",
   "metadata": {},
   "outputs": [],
   "source": [
    "#ETİ KARAM BESİN DEĞERLERİ (100g için)"
   ]
  },
  {
   "cell_type": "code",
   "execution_count": 22,
   "id": "62e2b36f-ae02-4d3d-bc46-3fce1e01811f",
   "metadata": {},
   "outputs": [
    {
     "name": "stdout",
     "output_type": "stream",
     "text": [
      "Enerji(kcal)=2133kj/510kcal\n",
      " Yağ=27g\n",
      " Doymuş Yağ=16g\n",
      " Trans Yağ=0\n",
      " Karbonhidrat=56g\n",
      " (Şekerler 38g)\n",
      " Lif=4,6\n",
      " Protein=8,0g\n",
      " Tuz=0,39g\n"
     ]
    }
   ],
   "source": [
    "print(\"Enerji(kcal)=2133kj/510kcal\\n Yağ(g)=27g\\n Doymuş Yağ(g)=16g\\n Trans Yağ(g)=0\\n Karbonhidrat(g)=56g\\n Şekerler(g)=38g\\n Lif(g)=4,6\\n Protein(g)=8,0g\\n Tuz=0,39g\")"
   ]
  },
  {
   "cell_type": "code",
   "execution_count": 7,
   "id": "e0331566-c5e5-4ed2-b948-9937b0069780",
   "metadata": {},
   "outputs": [],
   "source": [
    "#ÜLKER ÇUBUK KRAKER BESİN DEĞERLERİ (100g için)"
   ]
  },
  {
   "cell_type": "code",
   "execution_count": 21,
   "id": "4a80b6e3-6a92-4854-8c09-3d708d8f785c",
   "metadata": {},
   "outputs": [
    {
     "name": "stdout",
     "output_type": "stream",
     "text": [
      "Enerji(kcal)=403kcal\n",
      " Yağ(g)=6.3g\n",
      " Doymuş Yağ(g)=2.4g\n",
      " Karbonhidrat(g)=73g\n",
      " Şekerler(g)=0g\n",
      " Lif(g)=2.6g\n",
      " Protein(g)=12g\n",
      " Tuz(g)=4.3\n"
     ]
    }
   ],
   "source": [
    "print(\"Enerji(kcal)=403kcal\\n Yağ(g)=6.3g\\n Doymuş Yağ(g)=2.4g\\n Karbonhidrat(g)=73g\\n Şekerler(g)=0g\\n Lif(g)=2.6g\\n Protein(g)=12g\\n Tuz(g)=4.3\")"
   ]
  },
  {
   "cell_type": "code",
   "execution_count": 9,
   "id": "d54cb806-8461-4df3-8e2d-21905da4c1dd",
   "metadata": {},
   "outputs": [],
   "source": [
    "#BURCH MISIR VE PİRİNÇ PATLAĞI BESİN DEĞERLERİ (96g için)"
   ]
  },
  {
   "cell_type": "code",
   "execution_count": 20,
   "id": "5c48259b-43bb-45e0-b612-ebde933edbf0",
   "metadata": {},
   "outputs": [
    {
     "name": "stdout",
     "output_type": "stream",
     "text": [
      "Enerji(kcal)=1547/369\n",
      " Yağ(g)=1,3g\n",
      " Doymuş Yağ(g)=0,5g\n",
      " Karbonhidrat(g)=81,6g\n",
      " Şekerler(g)=0,0g\n",
      " Lif(g)=1,9g\n",
      " Protein(g)=6,7g\n",
      " Tuz(g)=5,3g\n"
     ]
    }
   ],
   "source": [
    "print(\"Enerji(kcal)=1547/369\\n Yağ(g)=1,3g\\n Doymuş Yağ(g)=0,5g\\n Karbonhidrat(g)=81,6g\\n Şekerler(g)=0,0g\\n Lif(g)=1,9g\\n Protein(g)=6,7g\\n Tuz(g)=5,3g\")"
   ]
  },
  {
   "cell_type": "code",
   "execution_count": 11,
   "id": "91470e5d-26d5-47af-b52c-9648b9a0cff0",
   "metadata": {},
   "outputs": [],
   "source": [
    "#BEYPAZARI MADEN SUYU BESİN DEĞERLERİ (200 ml için)"
   ]
  },
  {
   "cell_type": "code",
   "execution_count": 19,
   "id": "20f2255c-8f62-42c3-92d6-f5342c117698",
   "metadata": {},
   "outputs": [
    {
     "name": "stdout",
     "output_type": "stream",
     "text": [
      "Kalori=20kcal\n",
      " -----------\n",
      " KATYONLAR\n",
      " -----------\n",
      " Kalsiyum=205,867mg/l\n",
      " Magnezyum=124,588mg/l\n",
      " Potasyum=26,005mg/l\n",
      " Demir=0,008mg/l\n",
      " Sodyum=138,181mg/l\n",
      " -----------\n",
      " ANYONLAR\n",
      " -----------\n",
      " Sülfat=176,11mg/l\n",
      " Florür=0,64mg/l\n",
      " Silikat=48,21mg/l\n",
      " Klorür=21,94mg/l\n",
      " Bikarbonat=1433,5mg/l\n",
      " -----------\n",
      " TOPLAM MİNERAL DEĞERİ\n",
      " -----------\n",
      " 3323,2767mg/l\n"
     ]
    }
   ],
   "source": [
    "print(\"Kalori=20kcal\\n -----------\\n KATYONLAR\\n -----------\\n Kalsiyum=205,867mg/l\\n Magnezyum=124,588mg/l\\n Potasyum=26,005mg/l\\n Demir=0,008mg/l\\n Sodyum=138,181mg/l\\n -----------\\n ANYONLAR\\n -----------\\n Sülfat=176,11mg/l\\n Florür=0,64mg/l\\n Silikat=48,21mg/l\\n Klorür=21,94mg/l\\n Bikarbonat=1433,5mg/l\\n -----------\\n TOPLAM MİNERAL DEĞERİ\\n -----------\\n 3323,2767mg/l\") "
   ]
  },
  {
   "cell_type": "code",
   "execution_count": null,
   "id": "2d361d32-64cd-4b69-93d9-243581a8ee62",
   "metadata": {},
   "outputs": [],
   "source": []
  }
 ],
 "metadata": {
  "kernelspec": {
   "display_name": "Python 3 (ipykernel)",
   "language": "python",
   "name": "python3"
  },
  "language_info": {
   "codemirror_mode": {
    "name": "ipython",
    "version": 3
   },
   "file_extension": ".py",
   "mimetype": "text/x-python",
   "name": "python",
   "nbconvert_exporter": "python",
   "pygments_lexer": "ipython3",
   "version": "3.9.13"
  }
 },
 "nbformat": 4,
 "nbformat_minor": 5
}
